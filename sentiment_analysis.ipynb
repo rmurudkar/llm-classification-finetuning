{
 "cells": [
  {
   "cell_type": "code",
   "execution_count": 16,
   "metadata": {},
   "outputs": [
    {
     "data": {
      "text/plain": [
       "id                                                          5187535\n",
       "model_a                                                   vicuna-7b\n",
       "model_b                                          gpt-3.5-turbo-0314\n",
       "prompt            [\"Is it possible to retrieve old news headline...\n",
       "response_a        [\"Yes, it is possible to retrieve old news hea...\n",
       "response_b        [\"Yes, it is possible to retrieve old news hea...\n",
       "winner_model_a                                                    0\n",
       "winner_model_b                                                    0\n",
       "winner_tie                                                        1\n",
       "Name: 75, dtype: object"
      ]
     },
     "execution_count": 16,
     "metadata": {},
     "output_type": "execute_result"
    }
   ],
   "source": [
    "import pandas as pd\n",
    "import numpy as np\n",
    "from transformers import AutoTokenizer, AutoModel\n",
    "import torch\n",
    "from sklearn.metrics.pairwise import cosine_similarity\n",
    "from transformers import pipeline\n",
    "\n",
    "index = 75\n",
    "\n",
    "df = pd.read_csv(\"train.csv\")\n",
    "df.loc[index]\n"
   ]
  },
  {
   "cell_type": "code",
   "execution_count": 17,
   "metadata": {},
   "outputs": [
    {
     "name": "stdout",
     "output_type": "stream",
     "text": [
      "[\"Is it possible to retrieve old news headlines from archive.org?\"]\n",
      "[\"Yes, it is possible to retrieve old news headlines from archive.org. Archive.org is a digital library that allows users to access and download content from the internet, including news articles. The website has a section called \\\"Wayback Machine\\\" which allows users to browse archived versions of websites, including news sites. The Wayback Machine archives websites on a regular basis and allows users to view the archived version of a website at a specific point in time. So, you can use the Wayback Machine to access old news headlines that were available on a particular website at a specific point in time.\"]\n",
      "[\"Yes, it is possible to retrieve old news headlines from archive.org. Archive.org is a digital archive that stores historical versions of websites, including news websites. You can search for old news headlines by entering the website URL or specific keywords in the search bar on archive.org. Once you find the archived version of the news website, you can navigate to the specific date or time period you are interested in to view the headlines. Keep in mind that not all news websites are archived on archive.org, and some archived versions may not include all of the content from the original website.\"]\n"
     ]
    }
   ],
   "source": [
    "prompt = df[\"prompt\"][index]\n",
    "response_a = df[\"response_a\"][index]\n",
    "response_b = df[\"response_b\"][index]\n",
    "\n",
    "print(prompt)\n",
    "print(response_a)\n",
    "print(response_b)"
   ]
  },
  {
   "cell_type": "code",
   "execution_count": 18,
   "metadata": {},
   "outputs": [],
   "source": [
    "sentiment_analyzer = pipeline(\"sentiment-analysis\", model=\"distilbert-base-uncased-finetuned-sst-2-english\")\n",
    " # Some sentiment analyzers return multiple results for longer texts\n",
    "# Let's limit the text length to avoid this issue\n",
    "response_a = response_a[:512]\n",
    "response_b = response_b[:512]\n",
    "prompt = prompt[:512]\n",
    "\n",
    "\n",
    "result = sentiment_analyzer(prompt)\n",
    "result_a = sentiment_analyzer(response_a)\n",
    "result_b = sentiment_analyzer(response_b)\n"
   ]
  },
  {
   "cell_type": "code",
   "execution_count": 19,
   "metadata": {},
   "outputs": [
    {
     "name": "stdout",
     "output_type": "stream",
     "text": [
      "[\"Is it possible to retrieve old news headlines from archive.org?\"]\n",
      "[{'label': 'NEGATIVE', 'score': 0.9985964894294739}]\n",
      "[\"Yes, it is possible to retrieve old news headlines from archive.org. Archive.org is a digital library that allows users to access and download content from the internet, including news articles. The website has a section called \\\"Wayback Machine\\\" which allows users to browse archived versions of websites, including news sites. The Wayback Machine archives websites on a regular basis and allows users to view the archived version of a website at a specific point in time. So, you can use the Wayback Machine\n",
      "[{'label': 'NEGATIVE', 'score': 0.9384102821350098}]\n",
      "[\"Yes, it is possible to retrieve old news headlines from archive.org. Archive.org is a digital archive that stores historical versions of websites, including news websites. You can search for old news headlines by entering the website URL or specific keywords in the search bar on archive.org. Once you find the archived version of the news website, you can navigate to the specific date or time period you are interested in to view the headlines. Keep in mind that not all news websites are archived on archive\n",
      "[{'label': 'NEGATIVE', 'score': 0.9801098108291626}]\n"
     ]
    }
   ],
   "source": [
    "print(prompt)\n",
    "print(result)\n",
    "print(response_a)\n",
    "print(result_a)\n",
    "print(response_b)\n",
    "print(result_b)"
   ]
  },
  {
   "cell_type": "code",
   "execution_count": null,
   "metadata": {},
   "outputs": [],
   "source": []
  }
 ],
 "metadata": {
  "kernelspec": {
   "display_name": "venv",
   "language": "python",
   "name": "python3"
  },
  "language_info": {
   "codemirror_mode": {
    "name": "ipython",
    "version": 3
   },
   "file_extension": ".py",
   "mimetype": "text/x-python",
   "name": "python",
   "nbconvert_exporter": "python",
   "pygments_lexer": "ipython3",
   "version": "3.10.10"
  }
 },
 "nbformat": 4,
 "nbformat_minor": 2
}
