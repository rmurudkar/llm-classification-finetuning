{
 "cells": [
  {
   "cell_type": "code",
   "execution_count": 7,
   "metadata": {},
   "outputs": [],
   "source": [
    "import pandas as pd\n",
    "import numpy as np\n",
    "from transformers import AutoTokenizer, AutoModel\n",
    "import torch\n",
    "from sklearn.metrics.pairwise import cosine_similarity\n",
    "from transformers import pipeline\n",
    "\n",
    "\n",
    "df = pd.read_csv(\"train.csv\")\n",
    "df.head()\n",
    "\n",
    "index = 1"
   ]
  },
  {
   "cell_type": "code",
   "execution_count": 8,
   "metadata": {},
   "outputs": [
    {
     "name": "stdout",
     "output_type": "stream",
     "text": [
      "[\"What is the difference between marriage license and marriage certificate?\",\"How can I get both of them as quick as possible in California \",\"What is the minimal time to get them? 1 day or 10 days?\"]\n",
      "[\"A marriage license is a legal document that allows a couple to get married. It is issued by a government agency, such as a county clerk's office or a state government, and is valid for a certain period of time, usually one year. After the marriage has taken place, the couple must obtain a marriage certificate, which is a document that records the marriage and is used to prove that the marriage took place. The marriage certificate is usually issued by the same government agency that issued the marriage license, and it is typically used for legal purposes, such as to change a name on a driver's license or to prove that a couple is married when applying for government benefits.\",\"If you want to get both a marriage license and a marriage certificate in California as quickly as possible, there are a few steps you can follow:\\n\\n1.   Obtain a marriage license: You can obtain a marriage license from the county clerk's office in the county where you plan to marry. The process typically takes about 30 minutes to complete and you will need to bring identification, such as a driver's license or passport, and proof of your age, such as a birth certificate or a passport. The marriage license is valid for one year and there is no waiting period between the time you obtain the license and the time of the marriage.\\n2.   Get married: After obtaining the marriage license, you can get married at any location of your choice, as long as it is legally recognized as a place to get married.\\n3.   Obtain a marriage certificate: After the marriage has taken place, you need to obtain a marriage certificate from the same government agency that issued the marriage license. The process typically takes about 30 minutes to complete and you will need to bring the marriage license and a copy of the marriage certificate to the government agency.\\n\\nNote: You may need to check with your county clerk's office for the specific requirements and process for obtaining a marriage license and a marriage certificate in California.\",\"The minimal time to get a marriage license and a marriage certificate in California can vary depending on the specific requirements and process in your county. Generally, you can obtain a marriage license and a marriage certificate in California within a few days of applying, but it is best to check with your county clerk's office for the specific requirements and process for your county.\\n\\nIn some counties, you can obtain a marriage license and a marriage certificate on the same day, while in other counties, you may need to wait a few days. The process typically takes about 30 minutes to complete and you will need to bring identification, such as a driver's license or passport, and proof of your age, such as a birth certificate or a passport.\\n\\nIt is important to note that some counties in California require a waiting period between the time you obtain the marriage license and the time of the marriage. This waiting period can range from a few days to several weeks, and it is best to check with your county clerk's office for the specific requirements in your county.\"]\n",
      "[\"A marriage license and a marriage certificate are two different legal documents that have separate purposes.\\n\\n1. Marriage License: A marriage license is a legal document that gives a couple permission to get married. It's usually obtained from local government or court officials before the wedding ceremony takes place. The couple is required to meet certain criteria, such as being of a certain age or not being closely related. Once the license is issued, there's often a waiting period before the marriage ceremony can take place. The marriage license has to be signed by the couple, their witnesses, and the officiant conducting the marriage ceremony, then returned to the license issuer for recording.\\n\\n2. Marriage Certificate: A marriage certificate, on the other hand, is a document that proves a marriage has legally taken place. It's issued after the marriage ceremony, once the signed marriage license has been returned and recorded. The marriage certificate includes details about the couple, like their names, the date and location of their wedding, and the names of their witnesses. This document serves as the official record of the marriage and is often needed for legal transactions like changing a name, adding a spouse to insurance, or proving marital status.\",\"In California, here are the general steps to obtain a marriage license and marriage certificate as quickly as possible:\\n\\n1. Marriage License:\\n\\n   - Both parties must appear together at one of the County Clerk\\u2019s offices.\\n   - Complete a marriage license application before arriving (available online in many counties).\\n   - Bring valid identification (driver's license, passport, etc.) to prove your identity and age.\\n   - In California, you do not need to be a resident, and there's no waiting period or blood test required.\\n   - Pay the marriage license fee. The fee varies by county but is usually between $35 and $100.\\n   - The marriage license is issued immediately and is valid for 90 days.\\n\\n2. Marriage Ceremony: \\n\\n   - Arrange to have a wedding ceremony within 90 days of receiving the license. This could be a civil ceremony performed at the County Clerk\\u2019s office or a private ceremony.\\n   - The person performing the ceremony must return the completed license to the County Recorder\\u2019s office within 10 days of the ceremony.\\n\\n3. Marriage Certificate: \\n\\n   - After the signed marriage license has been returned and registered by the County Recorder, it becomes a marriage certificate.\\n   - You can order copies of the certificate for an additional fee. Processing times can vary, but expedited service may be available for an extra fee.\\n\\nRemember, each county may have slightly different rules and fees, so it's best to check with your specific County Clerk\\u2019s office for the most accurate information.\",\"The marriage license in California is issued immediately when you apply in person and meet all the requirements, so theoretically, you could get married on the same day if you have an officiant ready to perform the ceremony.\\n\\nHowever, the marriage certificate, which is the official record of your marriage, is only issued after the signed marriage license is returned and recorded by the county. The person who performs your marriage ceremony has 10 days to return the license to the county recorder's office.\\n\\nSo, while you could technically get married (i.e., obtain a license and have a ceremony) within a day, receiving the official marriage certificate will take a little longer, depending on how quickly the signed license is returned and how long the county recorder's office takes to process it.\"]\n"
     ]
    }
   ],
   "source": [
    "prompt = df[\"prompt\"][index]\n",
    "response_a = df[\"response_a\"][index]\n",
    "response_b = df[\"response_b\"][index]\n",
    "\n",
    "print(prompt)\n",
    "print(response_a)\n",
    "print(response_b)"
   ]
  },
  {
   "cell_type": "code",
   "execution_count": 10,
   "metadata": {},
   "outputs": [],
   "source": [
    "sentiment_analyzer = pipeline(\"sentiment-analysis\", model=\"distilbert-base-uncased-finetuned-sst-2-english\")\n",
    " # Some sentiment analyzers return multiple results for longer texts\n",
    "# Let's limit the text length to avoid this issue\n",
    "response_a = response_a[:512]\n",
    "response_b = response_b[:512]\n",
    "prompt = prompt[:512]\n",
    "\n",
    "\n",
    "result = sentiment_analyzer(prompt)\n",
    "result_a = sentiment_analyzer(response_a)\n",
    "result_b = sentiment_analyzer(response_b)\n"
   ]
  },
  {
   "cell_type": "code",
   "execution_count": 13,
   "metadata": {},
   "outputs": [
    {
     "name": "stdout",
     "output_type": "stream",
     "text": [
      "[\"What is the difference between marriage license and marriage certificate?\",\"How can I get both of them as quick as possible in California \",\"What is the minimal time to get them? 1 day or 10 days?\"]\n",
      "[{'label': 'NEGATIVE', 'score': 0.9991355538368225}]\n",
      "[\"A marriage license is a legal document that allows a couple to get married. It is issued by a government agency, such as a county clerk's office or a state government, and is valid for a certain period of time, usually one year. After the marriage has taken place, the couple must obtain a marriage certificate, which is a document that records the marriage and is used to prove that the marriage took place. The marriage certificate is usually issued by the same government agency that issued the marriage lic\n",
      "[{'label': 'NEGATIVE', 'score': 0.8101114630699158}]\n",
      "[{'label': 'NEGATIVE', 'score': 0.9744014143943787}]\n",
      "[\"A marriage license and a marriage certificate are two different legal documents that have separate purposes.\\n\\n1. Marriage License: A marriage license is a legal document that gives a couple permission to get married. It's usually obtained from local government or court officials before the wedding ceremony takes place. The couple is required to meet certain criteria, such as being of a certain age or not being closely related. Once the license is issued, there's often a waiting period before the marriag\n"
     ]
    }
   ],
   "source": [
    "print(prompt)\n",
    "print(result)\n",
    "print(response_a)\n",
    "print(result_a)\n",
    "print(result_b)\n",
    "print(response_b)"
   ]
  },
  {
   "cell_type": "code",
   "execution_count": null,
   "metadata": {},
   "outputs": [],
   "source": []
  }
 ],
 "metadata": {
  "kernelspec": {
   "display_name": "venv",
   "language": "python",
   "name": "python3"
  },
  "language_info": {
   "codemirror_mode": {
    "name": "ipython",
    "version": 3
   },
   "file_extension": ".py",
   "mimetype": "text/x-python",
   "name": "python",
   "nbconvert_exporter": "python",
   "pygments_lexer": "ipython3",
   "version": "3.10.10"
  }
 },
 "nbformat": 4,
 "nbformat_minor": 2
}
