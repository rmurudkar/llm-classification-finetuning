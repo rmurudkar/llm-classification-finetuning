{
 "cells": [
  {
   "cell_type": "code",
   "execution_count": null,
   "metadata": {},
   "outputs": [],
   "source": [
    "import pandas as pd\n",
    "import numpy as np\n",
    "from transformers import AutoTokenizer, AutoModel\n",
    "import torch\n",
    "from sklearn.metrics.pairwise import cosine_similarity\n",
    "\n",
    "\n",
    "\n",
    "df = pd.read_csv(\"train.csv\")\n",
    "df.head()"
   ]
  },
  {
   "cell_type": "code",
   "execution_count": null,
   "metadata": {},
   "outputs": [],
   "source": [
    "prompt = df[\"prompt\"][0]\n",
    "response_a = df[\"response_a\"][0]\n",
    "response_b = df[\"response_b\"][0]\n",
    "\n",
    "print(prompt)\n",
    "print(response_a)\n",
    "print(response_b)\n"
   ]
  },
  {
   "cell_type": "code",
   "execution_count": null,
   "metadata": {},
   "outputs": [],
   "source": [
    "model_name = \"sentence-transformers/all-mpnet-base-v2\"  # Good model for semantic similarity\n",
    "tokenizer = AutoTokenizer.from_pretrained(model_name)\n",
    "model = AutoModel.from_pretrained(model_name)\n",
    "device = torch.device(\"cuda\" if torch.cuda.is_available() else \"cpu\")\n",
    "model.to(device)\n"
   ]
  },
  {
   "cell_type": "code",
   "execution_count": null,
   "metadata": {},
   "outputs": [],
   "source": [
    "def get_embedding(text, tokenizer, model, device):\n",
    "    # Tokenize input\n",
    "    encoded_input = tokenizer(text, padding=True, truncation=True, max_length=512, return_tensors='pt')\n",
    "    encoded_input = {k: v.to(device) for k, v in encoded_input.items()}\n",
    "    \n",
    "    # Get model output\n",
    "    with torch.no_grad():\n",
    "        model_output = model(**encoded_input)\n",
    "    \n",
    "    # Use the [CLS] token embedding as the sentence representation\n",
    "    # or use mean pooling for a potentially better representation\n",
    "    token_embeddings = model_output.last_hidden_state\n",
    "    \n",
    "    # Mean pooling - taking average of all token embeddings\n",
    "    attention_mask = encoded_input['attention_mask']\n",
    "    input_mask_expanded = attention_mask.unsqueeze(-1).expand(token_embeddings.size()).float()\n",
    "    sum_embeddings = torch.sum(token_embeddings * input_mask_expanded, 1)\n",
    "    sum_mask = torch.clamp(input_mask_expanded.sum(1), min=1e-9)\n",
    "    embedding = (sum_embeddings / sum_mask).cpu().numpy()\n",
    "    \n",
    "    return embedding[0]  # Return the first (and only) embedding"
   ]
  },
  {
   "cell_type": "code",
   "execution_count": null,
   "metadata": {},
   "outputs": [],
   "source": [
    "# Get embeddings for prompt and response\n",
    "prompt_embedding = get_embedding(prompt, tokenizer, model, device)\n",
    "responsea_embedding = get_embedding(response_a, tokenizer, model, device)\n",
    "responseb_embedding = get_embedding(response_b, tokenizer, model, device)"
   ]
  },
  {
   "cell_type": "code",
   "execution_count": null,
   "metadata": {},
   "outputs": [],
   "source": [
    "# print(prompt_embedding)\n",
    "# print(responsea_embedding)\n",
    "# print(responseb_embedding)\n"
   ]
  },
  {
   "cell_type": "code",
   "execution_count": 17,
   "metadata": {},
   "outputs": [
    {
     "name": "stdout",
     "output_type": "stream",
     "text": [
      "Similarity between prompt and response A: 0.37852227687835693\n",
      "Similarity between prompt and response B: 0.5427287817001343\n"
     ]
    }
   ],
   "source": [
    "similarity = cosine_similarity([prompt_embedding], [responsea_embedding])[0][0]\n",
    "\n",
    "print(f\"Similarity between prompt and response A: {similarity}\")\n",
    "\n",
    "similarity = cosine_similarity([prompt_embedding], [responseb_embedding])[0][0]\n",
    "\n",
    "print(f\"Similarity between prompt and response B: {similarity}\")\n"
   ]
  },
  {
   "cell_type": "code",
   "execution_count": null,
   "metadata": {},
   "outputs": [],
   "source": []
  }
 ],
 "metadata": {
  "kernelspec": {
   "display_name": "venv",
   "language": "python",
   "name": "python3"
  },
  "language_info": {
   "codemirror_mode": {
    "name": "ipython",
    "version": 3
   },
   "file_extension": ".py",
   "mimetype": "text/x-python",
   "name": "python",
   "nbconvert_exporter": "python",
   "pygments_lexer": "ipython3",
   "version": "3.10.10"
  }
 },
 "nbformat": 4,
 "nbformat_minor": 2
}
